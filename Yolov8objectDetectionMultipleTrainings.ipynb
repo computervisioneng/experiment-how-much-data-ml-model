{
  "nbformat": 4,
  "nbformat_minor": 0,
  "metadata": {
    "colab": {
      "provenance": [],
      "gpuType": "T4"
    },
    "kernelspec": {
      "name": "python3",
      "display_name": "Python 3"
    },
    "language_info": {
      "name": "python"
    },
    "accelerator": "GPU"
  },
  "cells": [
    {
      "cell_type": "code",
      "execution_count": null,
      "metadata": {
        "id": "ZJol0bHVnCND",
        "colab": {
          "base_uri": "https://localhost:8080/"
        },
        "outputId": "d5ce439c-b61e-4996-cda1-bb161004501e"
      },
      "outputs": [
        {
          "output_type": "stream",
          "name": "stdout",
          "text": [
            "Drive already mounted at /content/gdrive; to attempt to forcibly remount, call drive.mount(\"/content/gdrive\", force_remount=True).\n"
          ]
        }
      ],
      "source": [
        "### 1. Mount Google Drive ###\n",
        "\n",
        "from google.colab import drive\n",
        "\n",
        "drive.mount('/content/gdrive')"
      ]
    },
    {
      "cell_type": "code",
      "source": [
        "### 2. Prepare data ###\n",
        "\n",
        "!scp '/content/gdrive/My Drive/Yolov8ObjectDetectionMultipleTrainings/data.zip' '/content/data.zip'\n",
        "\n",
        "!unzip '/content/data.zip' -d '/content/'"
      ],
      "metadata": {
        "id": "5lvcOogrnENq"
      },
      "execution_count": null,
      "outputs": []
    },
    {
      "cell_type": "code",
      "source": [
        "### 3. Install Ultralytics ###\n",
        "\n",
        "!pip install ultralytics"
      ],
      "metadata": {
        "id": "eM4dTakBnGEc"
      },
      "execution_count": null,
      "outputs": []
    },
    {
      "cell_type": "code",
      "source": [
        "### 4. Train model ###\n",
        "\n",
        "import os\n",
        "\n",
        "from ultralytics import YOLO\n",
        "\n",
        "\n",
        "ROOT_DIR = '/content/gdrive/My Drive/Yolov8ObjectDetectionMultipleTrainings/'\n",
        "\n",
        "configs = ['config_10.yaml', 'config_50.yaml', 'config_100.yaml', 'config_200.yaml',\n",
        "           'config_500.yaml', 'config_1000.yaml', 'config_2000.yaml', 'config_4000.yaml']\n",
        "\n",
        "aps = []\n",
        "for j, config_name in enumerate(configs):\n",
        "\n",
        "  # Load a model\n",
        "  model = YOLO(\"yolov8n.pt\")  # load pre trained model\n",
        "\n",
        "  # Use the model\n",
        "  results = model.train(data=os.path.join(ROOT_DIR, config_name), epochs=20)  # train the model\n",
        "\n",
        "  aps.append(results.results_dict['metrics/mAP50(B)'])\n"
      ],
      "metadata": {
        "id": "XsoRd4zKnHKm"
      },
      "execution_count": null,
      "outputs": []
    },
    {
      "cell_type": "code",
      "source": [
        "### 5. Plot results ###\n",
        "\n",
        "import matplotlib.pyplot as plt\n",
        "\n",
        "# Sample data\n",
        "categories = [10, 50, 100, 200, 500, 1000, 2000, 4000]\n",
        "values = aps\n",
        "\n",
        "# Plotting the bar chart\n",
        "plt.bar(categories, values, color='skyblue')\n",
        "\n",
        "# Adding labels and title\n",
        "plt.xlabel('Dataset size')\n",
        "plt.ylabel('mAP50')\n",
        "\n",
        "# Display the plot\n",
        "%matplotlib inline\n",
        "plt.show()"
      ],
      "metadata": {
        "id": "BWp8L1tInJcL"
      },
      "execution_count": null,
      "outputs": []
    }
  ]
}